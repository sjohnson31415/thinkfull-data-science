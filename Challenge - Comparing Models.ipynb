{
 "cells": [
  {
   "cell_type": "code",
   "execution_count": 37,
   "metadata": {
    "collapsed": true
   },
   "outputs": [],
   "source": [
    "import pandas as pd\n",
    "import numpy as np\n",
    "import matplotlib.pyplot as plt\n",
    "import scipy\n",
    "import seaborn as sns\n",
    "from sklearn import linear_model\n",
    "from sklearn.model_selection import train_test_split\n",
    "import sklearn\n",
    "%matplotlib inline"
   ]
  },
  {
   "cell_type": "code",
   "execution_count": 38,
   "metadata": {},
   "outputs": [
    {
     "data": {
      "text/plain": [
       "Index(['StateCodes', 'State', 'Region', 'Division', 'Coast', 'Great Lakes',\n",
       "       'TotalC2010', 'TotalC2011', 'TotalC2012', 'TotalC2013',\n",
       "       ...\n",
       "       'RINTERNATIONALMIG2013', 'RINTERNATIONALMIG2014', 'RDOMESTICMIG2011',\n",
       "       'RDOMESTICMIG2012', 'RDOMESTICMIG2013', 'RDOMESTICMIG2014',\n",
       "       'RNETMIG2011', 'RNETMIG2012', 'RNETMIG2013', 'RNETMIG2014'],\n",
       "      dtype='object', length=192)"
      ]
     },
     "execution_count": 38,
     "metadata": {},
     "output_type": "execute_result"
    }
   ],
   "source": [
    "df = pd.read_csv('Energy Census and Economic Data US 2010-2014.csv')\n",
    "df.columns"
   ]
  },
  {
   "cell_type": "code",
   "execution_count": 47,
   "metadata": {
    "collapsed": true
   },
   "outputs": [],
   "source": [
    "y = df['TotalC2014']\n",
    "X = df[['POPESTIMATE2014','CoalC2014','ElecPrice2014']]\n",
    "X_train, X_test, y_train, y_test = train_test_split(X, y, test_size=0.3)"
   ]
  },
  {
   "cell_type": "code",
   "execution_count": 48,
   "metadata": {},
   "outputs": [
    {
     "name": "stdout",
     "output_type": "stream",
     "text": [
      "\n",
      "Coefficients: \n",
      " [  2.12371817e-01   1.70920192e+00  -4.63482978e+03]\n",
      "\n",
      "Intercept: \n",
      " 189174.743603\n",
      "\n",
      "R-squared:\n",
      "0.893552796822\n",
      "0.866940996027\n"
     ]
    }
   ],
   "source": [
    "ols_regr = linear_model.LinearRegression()\n",
    "ols_regr.fit(X_train, y_train)\n",
    "\n",
    "print('\\nCoefficients: \\n', ols_regr.coef_)\n",
    "print('\\nIntercept: \\n', ols_regr.intercept_)\n",
    "print('\\nR-squared:')\n",
    "print(ols_regr.score(X_test, y_test))\n",
    "print(1 - (1-ols_regr.score(X_test, y_test))*(len(y_test)-1)/(len(y_test)-X_test.shape[1]-1))"
   ]
  },
  {
   "cell_type": "code",
   "execution_count": 60,
   "metadata": {},
   "outputs": [
    {
     "name": "stdout",
     "output_type": "stream",
     "text": [
      "[  352020.33333333   474047.66666667   333959.33333333  1593876.66666667\n",
      "  1580697.66666667   352020.33333333  3149359.66666667  1093021.33333333\n",
      "   329200.33333333  2560756.33333333  1503292.          1580697.66666667\n",
      "  3258284.33333333  1157416.33333333  1580697.66666667   632831.66666667]\n",
      "True\n"
     ]
    },
    {
     "data": {
      "text/plain": [
       "0.86034856711876428"
      ]
     },
     "execution_count": 60,
     "metadata": {},
     "output_type": "execute_result"
    }
   ],
   "source": [
    "knn_regr = sklearn.neighbors.KNeighborsRegressor(n_neighbors=3)\n",
    "knn_regr.fit(X_train, y_train)\n",
    "#print(X_test.iloc[2:4,:])\n",
    "print(knn_regr.predict(X_test))\n",
    "print(X_test.shape != len(knn_regr.predict(X_test)))\n",
    "knn_regr.score(X_test, y_test)\n"
   ]
  },
  {
   "cell_type": "code",
   "execution_count": 58,
   "metadata": {},
   "outputs": [
    {
     "data": {
      "text/plain": [
       "(16, 3)"
      ]
     },
     "execution_count": 58,
     "metadata": {},
     "output_type": "execute_result"
    }
   ],
   "source": [
    "X_test.shape"
   ]
  },
  {
   "cell_type": "code",
   "execution_count": 59,
   "metadata": {},
   "outputs": [
    {
     "data": {
      "text/plain": [
       "16"
      ]
     },
     "execution_count": 59,
     "metadata": {},
     "output_type": "execute_result"
    }
   ],
   "source": [
    "len(knn_regr.predict(X_test))"
   ]
  },
  {
   "cell_type": "code",
   "execution_count": null,
   "metadata": {
    "collapsed": true
   },
   "outputs": [],
   "source": []
  }
 ],
 "metadata": {
  "kernelspec": {
   "display_name": "Python 3",
   "language": "python",
   "name": "python3"
  },
  "language_info": {
   "codemirror_mode": {
    "name": "ipython",
    "version": 3
   },
   "file_extension": ".py",
   "mimetype": "text/x-python",
   "name": "python",
   "nbconvert_exporter": "python",
   "pygments_lexer": "ipython3",
   "version": "3.6.1"
  }
 },
 "nbformat": 4,
 "nbformat_minor": 2
}
